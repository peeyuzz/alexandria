{
 "cells": [
  {
   "cell_type": "code",
   "execution_count": 1,
   "metadata": {},
   "outputs": [],
   "source": [
    "import pandas as pd\n",
    "import numpy as np\n",
    "from annoy import AnnoyIndex\n"
   ]
  },
  {
   "cell_type": "code",
   "execution_count": 2,
   "metadata": {},
   "outputs": [
    {
     "data": {
      "text/plain": [
       "True"
      ]
     },
     "execution_count": 2,
     "metadata": {},
     "output_type": "execute_result"
    }
   ],
   "source": [
    "\n",
    "search_index = AnnoyIndex(1024, 'angular')  # Assuming embed-english-v3.0 outputs 1024-dimensional vectors\n",
    "search_index.load('book_search.ann')"
   ]
  },
  {
   "cell_type": "code",
   "execution_count": 3,
   "metadata": {},
   "outputs": [
    {
     "data": {
      "text/html": [
       "<div>\n",
       "<style scoped>\n",
       "    .dataframe tbody tr th:only-of-type {\n",
       "        vertical-align: middle;\n",
       "    }\n",
       "\n",
       "    .dataframe tbody tr th {\n",
       "        vertical-align: top;\n",
       "    }\n",
       "\n",
       "    .dataframe thead th {\n",
       "        text-align: right;\n",
       "    }\n",
       "</style>\n",
       "<table border=\"1\" class=\"dataframe\">\n",
       "  <thead>\n",
       "    <tr style=\"text-align: right;\">\n",
       "      <th></th>\n",
       "      <th>id</th>\n",
       "      <th>title</th>\n",
       "      <th>author</th>\n",
       "      <th>rating</th>\n",
       "      <th>description</th>\n",
       "      <th>language</th>\n",
       "      <th>genres</th>\n",
       "      <th>characters</th>\n",
       "      <th>numRatings</th>\n",
       "      <th>ratingsByStars</th>\n",
       "      <th>likedPercent</th>\n",
       "      <th>setting</th>\n",
       "      <th>coverImg</th>\n",
       "      <th>bbeScore</th>\n",
       "      <th>similar_item_ids</th>\n",
       "    </tr>\n",
       "  </thead>\n",
       "  <tbody>\n",
       "    <tr>\n",
       "      <th>0</th>\n",
       "      <td>0</td>\n",
       "      <td>The Hunger Games</td>\n",
       "      <td>Suzanne Collins</td>\n",
       "      <td>4.33</td>\n",
       "      <td>WINNING MEANS FAME AND FORTUNE.LOSING MEANS CE...</td>\n",
       "      <td>English</td>\n",
       "      <td>[Young Adult, Fiction, Dystopia, Fantasy, Scie...</td>\n",
       "      <td>[Katniss Everdeen, Peeta Mellark, Cato (Hunger...</td>\n",
       "      <td>6376780</td>\n",
       "      <td>['3444695', '1921313', '745221', '171994', '93...</td>\n",
       "      <td>96</td>\n",
       "      <td>[District 12, Panem, Capitol, Panem, Panem (Un...</td>\n",
       "      <td>https://i.gr-assets.com/images/S/compressed.ph...</td>\n",
       "      <td>2993816</td>\n",
       "      <td>[8, 9, 15, 54, 55, 57, 58, 59, 64, 70, 72, 87,...</td>\n",
       "    </tr>\n",
       "    <tr>\n",
       "      <th>1</th>\n",
       "      <td>1</td>\n",
       "      <td>Harry Potter and the Order of the Phoenix</td>\n",
       "      <td>J.K. Rowling, Mary GrandPré (Illustrator)</td>\n",
       "      <td>4.50</td>\n",
       "      <td>There is a door at the end of a silent corrido...</td>\n",
       "      <td>English</td>\n",
       "      <td>[Fantasy, Young Adult, Fiction, Magic, Childre...</td>\n",
       "      <td>[Sirius Black, Draco Malfoy, Ron Weasley, Petu...</td>\n",
       "      <td>2507623</td>\n",
       "      <td>['1593642', '637516', '222366', '39573', '14526']</td>\n",
       "      <td>98</td>\n",
       "      <td>[Hogwarts School of Witchcraft and Wizardry (U...</td>\n",
       "      <td>https://i.gr-assets.com/images/S/compressed.ph...</td>\n",
       "      <td>2632233</td>\n",
       "      <td>[8, 9, 15, 54, 55, 57, 58, 59, 64, 70, 72, 87,...</td>\n",
       "    </tr>\n",
       "    <tr>\n",
       "      <th>2</th>\n",
       "      <td>2</td>\n",
       "      <td>To Kill a Mockingbird</td>\n",
       "      <td>Harper Lee</td>\n",
       "      <td>4.28</td>\n",
       "      <td>The unforgettable novel of a childhood in a sl...</td>\n",
       "      <td>English</td>\n",
       "      <td>[Classics, Fiction, Historical Fiction, School...</td>\n",
       "      <td>[Scout Finch, Atticus Finch, Jem Finch, Arthur...</td>\n",
       "      <td>4501075</td>\n",
       "      <td>['2363896', '1333153', '573280', '149952', '80...</td>\n",
       "      <td>95</td>\n",
       "      <td>[Maycomb, Alabama (United States)]</td>\n",
       "      <td>https://i.gr-assets.com/images/S/compressed.ph...</td>\n",
       "      <td>2269402</td>\n",
       "      <td>[8, 9, 15, 54, 55, 57, 58, 59, 64, 70, 72, 87,...</td>\n",
       "    </tr>\n",
       "  </tbody>\n",
       "</table>\n",
       "</div>"
      ],
      "text/plain": [
       "   id                                      title  \\\n",
       "0   0                           The Hunger Games   \n",
       "1   1  Harry Potter and the Order of the Phoenix   \n",
       "2   2                      To Kill a Mockingbird   \n",
       "\n",
       "                                      author  rating  \\\n",
       "0                            Suzanne Collins    4.33   \n",
       "1  J.K. Rowling, Mary GrandPré (Illustrator)    4.50   \n",
       "2                                 Harper Lee    4.28   \n",
       "\n",
       "                                         description language  \\\n",
       "0  WINNING MEANS FAME AND FORTUNE.LOSING MEANS CE...  English   \n",
       "1  There is a door at the end of a silent corrido...  English   \n",
       "2  The unforgettable novel of a childhood in a sl...  English   \n",
       "\n",
       "                                              genres  \\\n",
       "0  [Young Adult, Fiction, Dystopia, Fantasy, Scie...   \n",
       "1  [Fantasy, Young Adult, Fiction, Magic, Childre...   \n",
       "2  [Classics, Fiction, Historical Fiction, School...   \n",
       "\n",
       "                                          characters  numRatings  \\\n",
       "0  [Katniss Everdeen, Peeta Mellark, Cato (Hunger...     6376780   \n",
       "1  [Sirius Black, Draco Malfoy, Ron Weasley, Petu...     2507623   \n",
       "2  [Scout Finch, Atticus Finch, Jem Finch, Arthur...     4501075   \n",
       "\n",
       "                                      ratingsByStars  likedPercent  \\\n",
       "0  ['3444695', '1921313', '745221', '171994', '93...            96   \n",
       "1  ['1593642', '637516', '222366', '39573', '14526']            98   \n",
       "2  ['2363896', '1333153', '573280', '149952', '80...            95   \n",
       "\n",
       "                                             setting  \\\n",
       "0  [District 12, Panem, Capitol, Panem, Panem (Un...   \n",
       "1  [Hogwarts School of Witchcraft and Wizardry (U...   \n",
       "2                 [Maycomb, Alabama (United States)]   \n",
       "\n",
       "                                            coverImg  bbeScore  \\\n",
       "0  https://i.gr-assets.com/images/S/compressed.ph...   2993816   \n",
       "1  https://i.gr-assets.com/images/S/compressed.ph...   2632233   \n",
       "2  https://i.gr-assets.com/images/S/compressed.ph...   2269402   \n",
       "\n",
       "                                    similar_item_ids  \n",
       "0  [8, 9, 15, 54, 55, 57, 58, 59, 64, 70, 72, 87,...  \n",
       "1  [8, 9, 15, 54, 55, 57, 58, 59, 64, 70, 72, 87,...  \n",
       "2  [8, 9, 15, 54, 55, 57, 58, 59, 64, 70, 72, 87,...  "
      ]
     },
     "execution_count": 3,
     "metadata": {},
     "output_type": "execute_result"
    }
   ],
   "source": [
    "df = pd.read_json('books.json')\n",
    "df.head(3)"
   ]
  },
  {
   "cell_type": "code",
   "execution_count": 4,
   "metadata": {},
   "outputs": [],
   "source": [
    "df['similar_item_ids'] = df.index.map(lambda x: search_index.get_nns_by_item(x, 50, include_distances=False))"
   ]
  },
  {
   "cell_type": "code",
   "execution_count": 5,
   "metadata": {},
   "outputs": [
    {
     "data": {
      "text/html": [
       "<div>\n",
       "<style scoped>\n",
       "    .dataframe tbody tr th:only-of-type {\n",
       "        vertical-align: middle;\n",
       "    }\n",
       "\n",
       "    .dataframe tbody tr th {\n",
       "        vertical-align: top;\n",
       "    }\n",
       "\n",
       "    .dataframe thead th {\n",
       "        text-align: right;\n",
       "    }\n",
       "</style>\n",
       "<table border=\"1\" class=\"dataframe\">\n",
       "  <thead>\n",
       "    <tr style=\"text-align: right;\">\n",
       "      <th></th>\n",
       "      <th>id</th>\n",
       "      <th>title</th>\n",
       "      <th>author</th>\n",
       "      <th>rating</th>\n",
       "      <th>description</th>\n",
       "      <th>language</th>\n",
       "      <th>genres</th>\n",
       "      <th>characters</th>\n",
       "      <th>numRatings</th>\n",
       "      <th>ratingsByStars</th>\n",
       "      <th>likedPercent</th>\n",
       "      <th>setting</th>\n",
       "      <th>coverImg</th>\n",
       "      <th>bbeScore</th>\n",
       "      <th>similar_item_ids</th>\n",
       "    </tr>\n",
       "  </thead>\n",
       "  <tbody>\n",
       "    <tr>\n",
       "      <th>0</th>\n",
       "      <td>0</td>\n",
       "      <td>The Hunger Games</td>\n",
       "      <td>Suzanne Collins</td>\n",
       "      <td>4.33</td>\n",
       "      <td>WINNING MEANS FAME AND FORTUNE.LOSING MEANS CE...</td>\n",
       "      <td>English</td>\n",
       "      <td>[Young Adult, Fiction, Dystopia, Fantasy, Scie...</td>\n",
       "      <td>[Katniss Everdeen, Peeta Mellark, Cato (Hunger...</td>\n",
       "      <td>6376780</td>\n",
       "      <td>['3444695', '1921313', '745221', '171994', '93...</td>\n",
       "      <td>96</td>\n",
       "      <td>[District 12, Panem, Capitol, Panem, Panem (Un...</td>\n",
       "      <td>https://i.gr-assets.com/images/S/compressed.ph...</td>\n",
       "      <td>2993816</td>\n",
       "      <td>[0, 219, 4721, 321, 20335, 17432, 2670, 21, 2,...</td>\n",
       "    </tr>\n",
       "    <tr>\n",
       "      <th>1</th>\n",
       "      <td>1</td>\n",
       "      <td>Harry Potter and the Order of the Phoenix</td>\n",
       "      <td>J.K. Rowling, Mary GrandPré (Illustrator)</td>\n",
       "      <td>4.50</td>\n",
       "      <td>There is a door at the end of a silent corrido...</td>\n",
       "      <td>English</td>\n",
       "      <td>[Fantasy, Young Adult, Fiction, Magic, Childre...</td>\n",
       "      <td>[Sirius Black, Draco Malfoy, Ron Weasley, Petu...</td>\n",
       "      <td>2507623</td>\n",
       "      <td>['1593642', '637516', '222366', '39573', '14526']</td>\n",
       "      <td>98</td>\n",
       "      <td>[Hogwarts School of Witchcraft and Wizardry (U...</td>\n",
       "      <td>https://i.gr-assets.com/images/S/compressed.ph...</td>\n",
       "      <td>2632233</td>\n",
       "      <td>[1, 103, 71, 126, 93, 32, 105, 4689, 13018, 62...</td>\n",
       "    </tr>\n",
       "    <tr>\n",
       "      <th>2</th>\n",
       "      <td>2</td>\n",
       "      <td>To Kill a Mockingbird</td>\n",
       "      <td>Harper Lee</td>\n",
       "      <td>4.28</td>\n",
       "      <td>The unforgettable novel of a childhood in a sl...</td>\n",
       "      <td>English</td>\n",
       "      <td>[Classics, Fiction, Historical Fiction, School...</td>\n",
       "      <td>[Scout Finch, Atticus Finch, Jem Finch, Arthur...</td>\n",
       "      <td>4501075</td>\n",
       "      <td>['2363896', '1333153', '573280', '149952', '80...</td>\n",
       "      <td>95</td>\n",
       "      <td>[Maycomb, Alabama (United States)]</td>\n",
       "      <td>https://i.gr-assets.com/images/S/compressed.ph...</td>\n",
       "      <td>2269402</td>\n",
       "      <td>[2, 2563, 10971, 40, 557, 244, 3, 6, 4431, 571...</td>\n",
       "    </tr>\n",
       "  </tbody>\n",
       "</table>\n",
       "</div>"
      ],
      "text/plain": [
       "   id                                      title  \\\n",
       "0   0                           The Hunger Games   \n",
       "1   1  Harry Potter and the Order of the Phoenix   \n",
       "2   2                      To Kill a Mockingbird   \n",
       "\n",
       "                                      author  rating  \\\n",
       "0                            Suzanne Collins    4.33   \n",
       "1  J.K. Rowling, Mary GrandPré (Illustrator)    4.50   \n",
       "2                                 Harper Lee    4.28   \n",
       "\n",
       "                                         description language  \\\n",
       "0  WINNING MEANS FAME AND FORTUNE.LOSING MEANS CE...  English   \n",
       "1  There is a door at the end of a silent corrido...  English   \n",
       "2  The unforgettable novel of a childhood in a sl...  English   \n",
       "\n",
       "                                              genres  \\\n",
       "0  [Young Adult, Fiction, Dystopia, Fantasy, Scie...   \n",
       "1  [Fantasy, Young Adult, Fiction, Magic, Childre...   \n",
       "2  [Classics, Fiction, Historical Fiction, School...   \n",
       "\n",
       "                                          characters  numRatings  \\\n",
       "0  [Katniss Everdeen, Peeta Mellark, Cato (Hunger...     6376780   \n",
       "1  [Sirius Black, Draco Malfoy, Ron Weasley, Petu...     2507623   \n",
       "2  [Scout Finch, Atticus Finch, Jem Finch, Arthur...     4501075   \n",
       "\n",
       "                                      ratingsByStars  likedPercent  \\\n",
       "0  ['3444695', '1921313', '745221', '171994', '93...            96   \n",
       "1  ['1593642', '637516', '222366', '39573', '14526']            98   \n",
       "2  ['2363896', '1333153', '573280', '149952', '80...            95   \n",
       "\n",
       "                                             setting  \\\n",
       "0  [District 12, Panem, Capitol, Panem, Panem (Un...   \n",
       "1  [Hogwarts School of Witchcraft and Wizardry (U...   \n",
       "2                 [Maycomb, Alabama (United States)]   \n",
       "\n",
       "                                            coverImg  bbeScore  \\\n",
       "0  https://i.gr-assets.com/images/S/compressed.ph...   2993816   \n",
       "1  https://i.gr-assets.com/images/S/compressed.ph...   2632233   \n",
       "2  https://i.gr-assets.com/images/S/compressed.ph...   2269402   \n",
       "\n",
       "                                    similar_item_ids  \n",
       "0  [0, 219, 4721, 321, 20335, 17432, 2670, 21, 2,...  \n",
       "1  [1, 103, 71, 126, 93, 32, 105, 4689, 13018, 62...  \n",
       "2  [2, 2563, 10971, 40, 557, 244, 3, 6, 4431, 571...  "
      ]
     },
     "execution_count": 5,
     "metadata": {},
     "output_type": "execute_result"
    }
   ],
   "source": [
    "df.head(3)"
   ]
  },
  {
   "cell_type": "code",
   "execution_count": 6,
   "metadata": {},
   "outputs": [],
   "source": [
    "df.to_json(\"books.json\", orient='records')"
   ]
  },
  {
   "cell_type": "code",
   "execution_count": 9,
   "metadata": {},
   "outputs": [
    {
     "data": {
      "text/plain": [
       "'https://i.gr-assets.com/images/S/compressed.photo.goodreads.com/books/1553383690l/2657.jpg'"
      ]
     },
     "execution_count": 9,
     "metadata": {},
     "output_type": "execute_result"
    }
   ],
   "source": [
    "df['coverImg'].iloc[2]"
   ]
  },
  {
   "cell_type": "code",
   "execution_count": 1,
   "metadata": {},
   "outputs": [
    {
     "name": "stderr",
     "output_type": "stream",
     "text": [
      "c:\\Users\\admin\\github\\alexandria\\.venv\\Lib\\site-packages\\tqdm\\auto.py:21: TqdmWarning: IProgress not found. Please update jupyter and ipywidgets. See https://ipywidgets.readthedocs.io/en/stable/user_install.html\n",
      "  from .autonotebook import tqdm as notebook_tqdm\n"
     ]
    }
   ],
   "source": [
    "import umap\n",
    "import numpy as np\n",
    "import pandas as pd\n",
    "\n",
    "embeds = np.load(\"embeddings.npy\")\n",
    "df = pd.read_json(\"books.json\")"
   ]
  },
  {
   "cell_type": "code",
   "execution_count": 19,
   "metadata": {},
   "outputs": [],
   "source": [
    "reducer = umap.UMAP(n_neighbors=2, n_components=2) \n",
    "query_embeds = embeds[88].reshape(1, -1)\n",
    "umap_embeds = reducer.fit_transform(query_embeds)"
   ]
  },
  {
   "cell_type": "code",
   "execution_count": 23,
   "metadata": {},
   "outputs": [
    {
     "data": {
      "text/plain": [
       "np.float64(0.0)"
      ]
     },
     "execution_count": 23,
     "metadata": {},
     "output_type": "execute_result"
    }
   ],
   "source": [
    "umap_embeds[0][0]"
   ]
  },
  {
   "cell_type": "code",
   "execution_count": 26,
   "metadata": {},
   "outputs": [],
   "source": [
    "query_embeds = embeds[88]"
   ]
  },
  {
   "cell_type": "code",
   "execution_count": 50,
   "metadata": {},
   "outputs": [],
   "source": [
    "query_embeds = embeds[:10]\n"
   ]
  },
  {
   "cell_type": "code",
   "execution_count": 51,
   "metadata": {},
   "outputs": [
    {
     "name": "stderr",
     "output_type": "stream",
     "text": [
      "c:\\Users\\admin\\github\\alexandria\\.venv\\Lib\\site-packages\\umap\\umap_.py:2437: UserWarning: n_neighbors is larger than the dataset size; truncating to X.shape[0] - 1\n",
      "  warn(\n"
     ]
    }
   ],
   "source": [
    "\n",
    "# Add some noise to create multiple points\n",
    "# noisy_embeddings = embedding + np.random.normal(0, 0.01, (100, 1024))\n",
    "\n",
    "# Create a UMAP object and reduce the dimension to 2\n",
    "reducer = umap.UMAP(n_components=2)\n",
    "reduced_embeddings = reducer.fit_transform(query_embeds)"
   ]
  },
  {
   "cell_type": "code",
   "execution_count": 52,
   "metadata": {},
   "outputs": [
    {
     "data": {
      "text/plain": [
       "array([[-1.7436475, 14.78913  ],\n",
       "       [-1.369735 , 13.943706 ],\n",
       "       [-2.383541 , 15.525083 ],\n",
       "       [-3.0337982, 14.77382  ],\n",
       "       [-2.473915 , 14.30707  ],\n",
       "       [-1.5422373, 15.642492 ],\n",
       "       [-3.231838 , 15.569825 ],\n",
       "       [-2.736054 , 13.298788 ],\n",
       "       [-1.8881867, 13.300775 ],\n",
       "       [-3.7293653, 14.552176 ]], dtype=float32)"
      ]
     },
     "execution_count": 52,
     "metadata": {},
     "output_type": "execute_result"
    }
   ],
   "source": [
    "reduced_embeddings"
   ]
  },
  {
   "cell_type": "code",
   "execution_count": 53,
   "metadata": {},
   "outputs": [],
   "source": [
    "import pandas as pd\n",
    "check = pd.read_json(\"books.json\")"
   ]
  },
  {
   "cell_type": "code",
   "execution_count": 61,
   "metadata": {},
   "outputs": [
    {
     "data": {
      "text/plain": [
       "id                                                              10199\n",
       "title                                               Leonardo da Vinci\n",
       "author                             Walter Isaacson (Goodreads Author)\n",
       "rating                                                           4.14\n",
       "description         Based on thousands of pages from Leonardo's as...\n",
       "language                                                      English\n",
       "genres              [Biography, Nonfiction, History, Art, Science,...\n",
       "characters                                                         []\n",
       "numRatings                                                      61546\n",
       "ratingsByStars             ['28621', '19782', '8552', '2596', '1995']\n",
       "likedPercent                                                       93\n",
       "setting                                                            []\n",
       "coverImg            https://i.gr-assets.com/images/S/compressed.ph...\n",
       "bbeScore                                                          195\n",
       "similar_item_ids    [10199, 11973, 2215, 12653, 1407, 4833, 17608,...\n",
       "position                                 [9.2471609116, 7.7010412216]\n",
       "Name: 10199, dtype: object"
      ]
     },
     "execution_count": 61,
     "metadata": {},
     "output_type": "execute_result"
    }
   ],
   "source": [
    "check.iloc[10199]"
   ]
  },
  {
   "cell_type": "code",
   "execution_count": 26,
   "metadata": {},
   "outputs": [
    {
     "name": "stdout",
     "output_type": "stream",
     "text": [
      "Center point: (10.836678874353701, 11.01457849230332)\n"
     ]
    }
   ],
   "source": [
    "# Calculate the center point\n",
    "center_x = check['position'].apply(lambda x: x[0]).mean()\n",
    "center_y = check['position'].apply(lambda x: x[1]).mean()\n",
    "\n",
    "# Print the center point\n",
    "print(f\"Center point: ({center_x}, {center_y})\")"
   ]
  },
  {
   "cell_type": "code",
   "execution_count": null,
   "metadata": {},
   "outputs": [],
   "source": []
  }
 ],
 "metadata": {
  "kernelspec": {
   "display_name": ".venv",
   "language": "python",
   "name": "python3"
  },
  "language_info": {
   "codemirror_mode": {
    "name": "ipython",
    "version": 3
   },
   "file_extension": ".py",
   "mimetype": "text/x-python",
   "name": "python",
   "nbconvert_exporter": "python",
   "pygments_lexer": "ipython3",
   "version": "3.11.9"
  }
 },
 "nbformat": 4,
 "nbformat_minor": 2
}
